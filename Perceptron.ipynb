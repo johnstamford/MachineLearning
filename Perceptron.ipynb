{
 "metadata": {
  "name": "",
  "signature": "sha256:3d2e748d7693682bbdebbc717fb433f1423d0ba1cc86fd030aa22d910604b520"
 },
 "nbformat": 3,
 "nbformat_minor": 0,
 "worksheets": [
  {
   "cells": [
    {
     "cell_type": "code",
     "collapsed": false,
     "input": [
      "import numpy as np\n",
      "import matplotlib.pyplot as plt\n",
      "#import sklearn.linear_model.perceptron as p\n",
      "from sklearn.linear_model import perceptron\n",
      "\n",
      "# Needed to show the plots inline\n",
      "%matplotlib inline"
     ],
     "language": "python",
     "metadata": {},
     "outputs": [],
     "prompt_number": 1
    },
    {
     "cell_type": "code",
     "collapsed": false,
     "input": [
      "# Data\n",
      "d = np.array([\n",
      "[2, 1, 2, 5, 7, 2, 3, 6, 1, 2, 5, 4, 6, 5],\n",
      "[2, 3, 3, 3, 3, 4, 4, 4, 5, 5, 5, 6, 6, 7]\n",
      "])\n",
      "\n",
      "# Labels\n",
      "t = np.array([0, 0, 0, 1, 1, 0, 0, 1, 0, 0, 1, 1, 1, 1])"
     ],
     "language": "python",
     "metadata": {},
     "outputs": [],
     "prompt_number": 2
    },
    {
     "cell_type": "code",
     "collapsed": false,
     "input": [
      "print d.shape\n",
      "print t.shape"
     ],
     "language": "python",
     "metadata": {},
     "outputs": [
      {
       "output_type": "stream",
       "stream": "stdout",
       "text": [
        "(2L, 14L)\n",
        "(14L,)\n"
       ]
      }
     ],
     "prompt_number": 3
    },
    {
     "cell_type": "code",
     "collapsed": false,
     "input": [
      "colormap = np.array(['r', 'k'])\n",
      "plt.scatter(d[0], d[1], c=colormap[t], s=40)"
     ],
     "language": "python",
     "metadata": {},
     "outputs": [
      {
       "metadata": {},
       "output_type": "pyout",
       "prompt_number": 4,
       "text": [
        "<matplotlib.collections.PathCollection at 0x10f36c50>"
       ]
      },
      {
       "metadata": {},
       "output_type": "display_data",
       "png": "[encoded data removed]",
       "text": [
        "<matplotlib.figure.Figure at 0x10e152e8>"
       ]
      }
     ],
     "prompt_number": 4
    },
    {
     "cell_type": "code",
     "collapsed": false,
     "input": [
      "# rotate the data\n",
      "d90 = np.rot90(d)\n",
      "#t90 = np.rot90(t)\n",
      "\n",
      "from sklearn.datasets import load_iris\n",
      "iris = load_iris()\n",
      "\n",
      "X = iris.data\n",
      "y = iris.target\n",
      "\n",
      "print X.shape\n",
      "print y.shape\n",
      "\n",
      "#net = perceptron.Perceptron(n_iter=10, penalty=None, alpha=0.0001, shuffle=True, verbose=0, random_state=None, fit_intercept=True, eta0=1)\n",
      "net = perceptron.Perceptron(n_iter=100, verbose=0, random_state=None, eta0=0.5)\n",
      "net.fit(d90,t)\n",
      "\n",
      "print \"Prediction \" + str(net.predict(d90))\n",
      "print \"Actual     \" + str(t)\n",
      "print \"Accuracy   \" + str(net.score(d90, t)*100) + \"%\"\n",
      "print net.coef_\n",
      "print net.intercept_\n",
      "print net.l1_ratio\n",
      "print net.get_params"
     ],
     "language": "python",
     "metadata": {},
     "outputs": []
    },
    {
     "cell_type": "code",
     "collapsed": false,
     "input": [
      "plt.title(\"Actual and Hyperplane\")\n",
      "plt.scatter(d[0], d[1], c=colormap[t], s=40)\n",
      "\n",
      "print net.coef_[0,0]\n",
      "print net.coef_[0,1]\n",
      "\n",
      "xmin, xmax = plt.xlim()\n",
      "ymin, ymax = plt.ylim()\n",
      "print xmin, xmax\n",
      "print ymin, ymax\n",
      "\n",
      "print \"Params\"\n",
      "print net.coef_\n",
      "print net.intercept_\n",
      "\n",
      "\n",
      "def line(x0):\n",
      "    return (-(x0 * net.coef_[0,0]) - net.intercept_) / net.coef_[0,1]\n",
      "\n",
      "colormap = np.array(['r', 'k'])\n",
      "\n",
      "plt.plot ([xmin, xmax], [line(xmin), line(xmax)], ls=\"-\")"
     ],
     "language": "python",
     "metadata": {},
     "outputs": [
      {
       "output_type": "stream",
       "stream": "stdout",
       "text": [
        "-3.0\n",
        "-13.0\n",
        "0.0 8.0\n",
        "1.0 8.0\n",
        "Params\n",
        "[[ -3. -13.]]\n",
        "[ 57.]\n"
       ]
      },
      {
       "metadata": {},
       "output_type": "pyout",
       "prompt_number": 133,
       "text": [
        "[<matplotlib.lines.Line2D at 0x19bc2d30>]"
       ]
      },
      {
       "metadata": {},
       "output_type": "display_data",
       "png": "[encoded data removed]",
       "text": [
        "<matplotlib.figure.Figure at 0x19a5ae80>"
       ]
      }
     ],
     "prompt_number": 133
    }
   ],
   "metadata": {}
  }
 ]
}